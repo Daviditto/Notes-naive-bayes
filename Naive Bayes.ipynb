{
 "cells": [
  {
   "cell_type": "markdown",
   "id": "8d5f4559-394e-462a-a90b-f0ab45822045",
   "metadata": {},
   "source": [
    "# Training a Classifier for Continuous Features"
   ]
  },
  {
   "cell_type": "code",
   "execution_count": 1,
   "id": "b2b937bb-5ec7-4866-b6ca-ee4b8cd7b193",
   "metadata": {},
   "outputs": [],
   "source": [
    "from sklearn.datasets import load_iris\n",
    "from sklearn.naive_bayes import GaussianNB"
   ]
  },
  {
   "cell_type": "code",
   "execution_count": 2,
   "id": "6fd9d4eb-0b3e-46f8-a74b-873c7bc21135",
   "metadata": {},
   "outputs": [],
   "source": [
    "X,y = load_iris().data, load_iris().target"
   ]
  },
  {
   "cell_type": "code",
   "execution_count": 3,
   "id": "9330d458-6c30-4385-9135-b4f136533f3f",
   "metadata": {},
   "outputs": [],
   "source": [
    "gaussiannb = GaussianNB()"
   ]
  },
  {
   "cell_type": "code",
   "execution_count": 4,
   "id": "ee99abf4-ccd0-4846-b9b1-ccef2da749f4",
   "metadata": {},
   "outputs": [],
   "source": [
    "gaussiannbft= gaussiannb.fit(X,y)"
   ]
  },
  {
   "cell_type": "code",
   "execution_count": 7,
   "id": "0035f9f9-b70d-4777-89c5-e5b4c8a87d02",
   "metadata": {},
   "outputs": [
    {
     "data": {
      "text/plain": [
       "array([0])"
      ]
     },
     "execution_count": 7,
     "metadata": {},
     "output_type": "execute_result"
    }
   ],
   "source": [
    "gaussiannbft.predict(X[0].reshape(1,4))"
   ]
  },
  {
   "cell_type": "code",
   "execution_count": 8,
   "id": "21f88444-f22a-45a2-ad2b-29b1f1706388",
   "metadata": {},
   "outputs": [
    {
     "data": {
      "text/plain": [
       "array([0.33333333, 0.33333333, 0.33333333])"
      ]
     },
     "execution_count": 8,
     "metadata": {},
     "output_type": "execute_result"
    }
   ],
   "source": [
    "gaussiannbft.class_prior_ # by default, priors are set equally for every class"
   ]
  },
  {
   "cell_type": "code",
   "execution_count": 9,
   "id": "2a4d07b9-b593-43b5-affa-d28f53b0ea0f",
   "metadata": {},
   "outputs": [
    {
     "data": {
      "text/plain": [
       "array([[1.00000000e+00, 1.35784265e-18, 7.11283512e-26]])"
      ]
     },
     "execution_count": 9,
     "metadata": {},
     "output_type": "execute_result"
    }
   ],
   "source": [
    "gaussiannbft.predict_proba(X[0].reshape(1,4)) # cannot be trusted, needs to be calibrated"
   ]
  },
  {
   "cell_type": "code",
   "execution_count": null,
   "id": "24358215-18dd-4309-a48c-3ba6d823a0b9",
   "metadata": {},
   "outputs": [],
   "source": []
  },
  {
   "cell_type": "code",
   "execution_count": null,
   "id": "073ddb07-e853-48ed-98e3-6c21d5374559",
   "metadata": {},
   "outputs": [],
   "source": []
  },
  {
   "cell_type": "code",
   "execution_count": 58,
   "id": "570f0f8a-06b8-4b3e-b00c-9ee0c8c1e294",
   "metadata": {},
   "outputs": [],
   "source": [
    "gnb = GaussianNB(priors = [0.25,0.25,0.5]) # reset the priors "
   ]
  },
  {
   "cell_type": "code",
   "execution_count": 12,
   "id": "8c10c89d-932f-4cf0-aa4d-f6099081b761",
   "metadata": {},
   "outputs": [],
   "source": [
    "ftgnb= gnb.fit(X,y)"
   ]
  },
  {
   "cell_type": "code",
   "execution_count": 13,
   "id": "65d80791-69f7-4b7a-a190-940a43b01f04",
   "metadata": {},
   "outputs": [
    {
     "data": {
      "text/plain": [
       "array([2])"
      ]
     },
     "execution_count": 13,
     "metadata": {},
     "output_type": "execute_result"
    }
   ],
   "source": [
    "ftgnb.predict(X[100].reshape(1, 4))"
   ]
  },
  {
   "cell_type": "markdown",
   "id": "f0909186-f043-4228-940a-bb8b9cbf3108",
   "metadata": {},
   "source": [
    "# Training a Classifier for Discrete and Count Features"
   ]
  },
  {
   "cell_type": "code",
   "execution_count": 24,
   "id": "fd8e2f11-9bb8-4cba-8184-e83711c7b76d",
   "metadata": {},
   "outputs": [],
   "source": [
    "from sklearn.naive_bayes import MultinomialNB\n",
    "from sklearn.feature_extraction.text import CountVectorizer\n",
    "import numpy as np"
   ]
  },
  {
   "cell_type": "code",
   "execution_count": 25,
   "id": "2b18924a-0d22-446c-bb6c-7adc9e11081e",
   "metadata": {},
   "outputs": [],
   "source": [
    "text_data = np.array(['I love Brazil. Brazil!', 'Brazil is best', 'Germany beats both'])"
   ]
  },
  {
   "cell_type": "code",
   "execution_count": 51,
   "id": "ad3054f9-bf4f-4479-b871-2e7128445119",
   "metadata": {},
   "outputs": [
    {
     "data": {
      "text/plain": [
       "array([[0, 0, 2, 0, 1],\n",
       "       [0, 1, 1, 0, 0],\n",
       "       [1, 0, 0, 1, 0]])"
      ]
     },
     "execution_count": 51,
     "metadata": {},
     "output_type": "execute_result"
    }
   ],
   "source": [
    "model = CountVectorizer(stop_words='english')\n",
    "data = model.fit_transform(text_data).toarray()\n",
    "data"
   ]
  },
  {
   "cell_type": "code",
   "execution_count": 60,
   "id": "bb2e5359-71b2-450f-84f8-df82831ed045",
   "metadata": {},
   "outputs": [],
   "source": [
    "target = [0,0,1]"
   ]
  },
  {
   "cell_type": "code",
   "execution_count": 52,
   "id": "7d56f431-54b9-4ba4-8007-515626c52a04",
   "metadata": {},
   "outputs": [
    {
     "data": {
      "text/plain": [
       "[array(['brazil', 'love'], dtype='<U7'),\n",
       " array(['best', 'brazil'], dtype='<U7'),\n",
       " array(['beats', 'germany'], dtype='<U7')]"
      ]
     },
     "execution_count": 52,
     "metadata": {},
     "output_type": "execute_result"
    }
   ],
   "source": [
    "model.inverse_transform(data)"
   ]
  },
  {
   "cell_type": "code",
   "execution_count": 53,
   "id": "ade0a070-d5ac-46b9-aac7-bd0e07584d72",
   "metadata": {},
   "outputs": [
    {
     "data": {
      "text/plain": [
       "['beats', 'best', 'brazil', 'germany', 'love']"
      ]
     },
     "execution_count": 53,
     "metadata": {},
     "output_type": "execute_result"
    }
   ],
   "source": [
    "model.get_feature_names()"
   ]
  },
  {
   "cell_type": "code",
   "execution_count": 71,
   "id": "a8c3ea55-dd97-4987-9288-631e30e16ae6",
   "metadata": {},
   "outputs": [],
   "source": [
    "mnb = MultinomialNB(class_prior=[0.25,0.1], alpha=0.5) #  fit_prior=False if you dont want to set priors"
   ]
  },
  {
   "cell_type": "code",
   "execution_count": 72,
   "id": "3af878a5-756a-41a0-a5aa-858a1930ba0f",
   "metadata": {},
   "outputs": [],
   "source": [
    "ftmnb =mnb.fit(data, target)"
   ]
  },
  {
   "cell_type": "code",
   "execution_count": 73,
   "id": "542de231-5859-44cf-9d09-22c32299c204",
   "metadata": {},
   "outputs": [
    {
     "data": {
      "text/plain": [
       "array([0])"
      ]
     },
     "execution_count": 73,
     "metadata": {},
     "output_type": "execute_result"
    }
   ],
   "source": [
    "ftmnb.predict([[0,0,1,0,1]])"
   ]
  },
  {
   "cell_type": "code",
   "execution_count": 74,
   "id": "970d97d3-9370-433e-8fe2-bd92be8d1c41",
   "metadata": {},
   "outputs": [
    {
     "data": {
      "text/plain": [
       "[0.25, 0.1]"
      ]
     },
     "execution_count": 74,
     "metadata": {},
     "output_type": "execute_result"
    }
   ],
   "source": [
    "ftmnb.class_prior"
   ]
  },
  {
   "cell_type": "code",
   "execution_count": 75,
   "id": "f5ab79b8-a145-4739-96db-ddb534cf8ac2",
   "metadata": {},
   "outputs": [
    {
     "data": {
      "text/plain": [
       "True"
      ]
     },
     "execution_count": 75,
     "metadata": {},
     "output_type": "execute_result"
    }
   ],
   "source": [
    "ftmnb.fit_prior"
   ]
  },
  {
   "cell_type": "code",
   "execution_count": 76,
   "id": "f1ee49b6-d884-4e6b-9bf9-a6ca1c511b41",
   "metadata": {},
   "outputs": [
    {
     "data": {
      "text/plain": [
       "array([0, 1])"
      ]
     },
     "execution_count": 76,
     "metadata": {},
     "output_type": "execute_result"
    }
   ],
   "source": [
    "ftmnb.classes_"
   ]
  },
  {
   "cell_type": "code",
   "execution_count": 77,
   "id": "c8f022c6-eccf-41eb-93d9-a92b5ad1026c",
   "metadata": {},
   "outputs": [
    {
     "data": {
      "text/plain": [
       "0.5"
      ]
     },
     "execution_count": 77,
     "metadata": {},
     "output_type": "execute_result"
    }
   ],
   "source": [
    "ftmnb.alpha"
   ]
  },
  {
   "cell_type": "markdown",
   "id": "d4e0e8ea-a70a-404c-b334-2d716d8f200d",
   "metadata": {},
   "source": [
    "# Training a Naive Bayes Classifier for Binary Features"
   ]
  },
  {
   "cell_type": "code",
   "execution_count": 79,
   "id": "a648e31a-6d0c-4204-bb29-4593efa91936",
   "metadata": {},
   "outputs": [],
   "source": [
    "from sklearn.naive_bayes import BernoulliNB"
   ]
  },
  {
   "cell_type": "code",
   "execution_count": 86,
   "id": "06e257c6-4584-4255-9845-b95422a2bf2b",
   "metadata": {},
   "outputs": [],
   "source": [
    "data = np.random.randint(2, size=(100,3))\n",
    "target = np.random.randint(2, size=(100,1)).ravel()"
   ]
  },
  {
   "cell_type": "code",
   "execution_count": 91,
   "id": "e8dbc6fa-ed1b-4181-b175-de43d9e70a16",
   "metadata": {},
   "outputs": [],
   "source": [
    "bnb = BernoulliNB(class_prior=None, fit_prior=False, alpha=0.5)"
   ]
  },
  {
   "cell_type": "code",
   "execution_count": 90,
   "id": "f8554d25-40d2-43fd-aa98-9d1dba6c28b3",
   "metadata": {},
   "outputs": [],
   "source": [
    "ftbnb= bnb.fit(data, target)"
   ]
  },
  {
   "cell_type": "code",
   "execution_count": 92,
   "id": "037e18cf-f019-42e1-af4c-81843eebdb5e",
   "metadata": {},
   "outputs": [
    {
     "data": {
      "text/plain": [
       "0.0"
      ]
     },
     "execution_count": 92,
     "metadata": {},
     "output_type": "execute_result"
    }
   ],
   "source": [
    "ftbnb.binarize"
   ]
  },
  {
   "cell_type": "code",
   "execution_count": 94,
   "id": "ec20e350-48c3-486c-8afb-326c86b966ce",
   "metadata": {},
   "outputs": [
    {
     "data": {
      "text/plain": [
       "array([1])"
      ]
     },
     "execution_count": 94,
     "metadata": {},
     "output_type": "execute_result"
    }
   ],
   "source": [
    "ftbnb.predict(data[1].reshape(1,3))"
   ]
  },
  {
   "cell_type": "markdown",
   "id": "251e04dc-d324-4c7a-82cf-38d0265d9c9d",
   "metadata": {},
   "source": [
    "# Calibrating Predicted Probabilities"
   ]
  },
  {
   "cell_type": "code",
   "execution_count": 98,
   "id": "eb6cf61d-4d8f-478f-a5ef-1e0deb47e21e",
   "metadata": {},
   "outputs": [],
   "source": [
    "from sklearn.datasets import load_iris\n",
    "from sklearn.calibration import CalibratedClassifierCV"
   ]
  },
  {
   "cell_type": "code",
   "execution_count": 97,
   "id": "7924362a-9aff-49de-9606-a3ce58462a39",
   "metadata": {},
   "outputs": [],
   "source": [
    "Xi, yi = load_iris().data, load_iris().target"
   ]
  },
  {
   "cell_type": "code",
   "execution_count": 99,
   "id": "0fdbb284-faac-49a2-ac47-7d6915884ed2",
   "metadata": {},
   "outputs": [],
   "source": [
    "classifier = GaussianNB()"
   ]
  },
  {
   "cell_type": "code",
   "execution_count": 100,
   "id": "4fe2e066-1cc2-4401-b88c-a6a5cc0bc263",
   "metadata": {},
   "outputs": [],
   "source": [
    "calibrated = CalibratedClassifierCV(classifier, cv=10, method='sigmoid')"
   ]
  },
  {
   "cell_type": "code",
   "execution_count": 101,
   "id": "b1f8e40b-ad82-4e05-8629-6f98c81e02d9",
   "metadata": {},
   "outputs": [],
   "source": [
    "ft = calibrated.fit(Xi,yi)"
   ]
  },
  {
   "cell_type": "code",
   "execution_count": 104,
   "id": "b69fbaa6-505c-484f-8cc8-2ba9b14fa107",
   "metadata": {},
   "outputs": [
    {
     "data": {
      "text/plain": [
       "array([[0.08280475, 0.82273828, 0.09445697]])"
      ]
     },
     "execution_count": 104,
     "metadata": {},
     "output_type": "execute_result"
    }
   ],
   "source": [
    "ft.predict_proba([[2.6, 2.6, 2.6, 0.4]])"
   ]
  },
  {
   "cell_type": "code",
   "execution_count": 105,
   "id": "15a618ba-911a-4cf4-a122-38d0529b54d4",
   "metadata": {},
   "outputs": [
    {
     "data": {
      "text/plain": [
       "array([[2.31548432e-04, 9.99768128e-01, 3.23532277e-07]])"
      ]
     },
     "execution_count": 105,
     "metadata": {},
     "output_type": "execute_result"
    }
   ],
   "source": [
    "classifier.fit(Xi,yi).predict_proba([[2.6, 2.6, 2.6, 0.4]]) "
   ]
  },
  {
   "cell_type": "code",
   "execution_count": null,
   "id": "2209cea4-7e85-44a3-8d0e-5765e0afc975",
   "metadata": {},
   "outputs": [],
   "source": []
  }
 ],
 "metadata": {
  "kernelspec": {
   "display_name": "Python 3 (ipykernel)",
   "language": "python",
   "name": "python3"
  },
  "language_info": {
   "codemirror_mode": {
    "name": "ipython",
    "version": 3
   },
   "file_extension": ".py",
   "mimetype": "text/x-python",
   "name": "python",
   "nbconvert_exporter": "python",
   "pygments_lexer": "ipython3",
   "version": "3.10.1"
  }
 },
 "nbformat": 4,
 "nbformat_minor": 5
}
